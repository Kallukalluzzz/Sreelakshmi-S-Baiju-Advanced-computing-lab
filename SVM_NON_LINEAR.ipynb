{
  "nbformat": 4,
  "nbformat_minor": 0,
  "metadata": {
    "colab": {
      "name": "SVM NON-LINEAR",
      "provenance": [],
      "authorship_tag": "ABX9TyOIy5Xcr8PTygE5x/h25fCi",
      "include_colab_link": true
    },
    "kernelspec": {
      "name": "python3",
      "display_name": "Python 3"
    },
    "language_info": {
      "name": "python"
    }
  },
  "cells": [
    {
      "cell_type": "markdown",
      "metadata": {
        "id": "view-in-github",
        "colab_type": "text"
      },
      "source": [
        "<a href=\"https://colab.research.google.com/github/Kallukalluzzz/gitproject/blob/master/SVM_NON_LINEAR.ipynb\" target=\"_parent\"><img src=\"https://colab.research.google.com/assets/colab-badge.svg\" alt=\"Open In Colab\"/></a>"
      ]
    },
    {
      "cell_type": "code",
      "execution_count": null,
      "metadata": {
        "id": "wTIJNkRHY1gZ"
      },
      "outputs": [],
      "source": [
        "from sklearn.datasets import load_iris\n",
        "file=load_iris()\n",
        "X=file.data\n",
        "Y=file.target"
      ]
    },
    {
      "cell_type": "code",
      "source": [
        "from sklearn.model_selection import train_test_split\n",
        "xtrain,xtest,ytrain,ytest=train_test_split(X,Y,train_size=0.5)"
      ],
      "metadata": {
        "id": "b4QHQGUwZFMa"
      },
      "execution_count": null,
      "outputs": []
    },
    {
      "cell_type": "code",
      "source": [
        "from sklearn.svm import SVC\n",
        "svm=SVC(C=1.0,kernel=\"poly\",degree=8,gamma=\"auto\")\n",
        "svm=svm.fit(xtrain,ytrain)\n",
        "res=svm.predict(xtest)\n",
        "print(res)"
      ],
      "metadata": {
        "colab": {
          "base_uri": "https://localhost:8080/"
        },
        "id": "gkkR9IIiZOrr",
        "outputId": "779734fa-1185-48a2-a6c2-fa5219f63f35"
      },
      "execution_count": null,
      "outputs": [
        {
          "output_type": "stream",
          "name": "stdout",
          "text": [
            "[0 2 2 2 2 0 1 2 1 2 2 1 2 0 1 0 0 2 0 2 2 2 2 2 1 2 2 1 1 1 2 0 0 1 0 0 1\n",
            " 2 0 2 1 0 0 2 2 2 1 0 0 0 0 2 1 2 0 2 0 1 0 1 2 2 2 2 0 0 0 0 1 2 2 1 2 1\n",
            " 1]\n"
          ]
        }
      ]
    },
    {
      "cell_type": "code",
      "source": [
        "from sklearn.metrics import accuracy_score\n",
        "score=accuracy_score(ytest,res)\n",
        "print(score*100)"
      ],
      "metadata": {
        "colab": {
          "base_uri": "https://localhost:8080/"
        },
        "id": "EEvkYlCXZwRJ",
        "outputId": "08c0c90d-0fd3-48af-b7c0-005a31420a8e"
      },
      "execution_count": null,
      "outputs": [
        {
          "output_type": "stream",
          "name": "stdout",
          "text": [
            "89.33333333333333\n"
          ]
        }
      ]
    }
  ]
}