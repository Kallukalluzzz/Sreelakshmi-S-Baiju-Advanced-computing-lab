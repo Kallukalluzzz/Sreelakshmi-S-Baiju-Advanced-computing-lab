{
  "nbformat": 4,
  "nbformat_minor": 0,
  "metadata": {
    "colab": {
      "name": "SVM NON LINEAR 1",
      "provenance": [],
      "authorship_tag": "ABX9TyPnjWAu9exN+FWwxaq5KsyD",
      "include_colab_link": true
    },
    "kernelspec": {
      "name": "python3",
      "display_name": "Python 3"
    },
    "language_info": {
      "name": "python"
    }
  },
  "cells": [
    {
      "cell_type": "markdown",
      "metadata": {
        "id": "view-in-github",
        "colab_type": "text"
      },
      "source": [
        "<a href=\"https://colab.research.google.com/github/Kallukalluzzz/gitproject/blob/master/SVM_NON_LINEAR_1.ipynb\" target=\"_parent\"><img src=\"https://colab.research.google.com/assets/colab-badge.svg\" alt=\"Open In Colab\"/></a>"
      ]
    },
    {
      "cell_type": "code",
      "execution_count": 1,
      "metadata": {
        "id": "DTER8lMdaLp9"
      },
      "outputs": [],
      "source": [
        "from sklearn.datasets import load_iris\n",
        "file=load_iris()\n",
        "X=file.data\n",
        "Y=file.target"
      ]
    },
    {
      "cell_type": "code",
      "source": [
        "from sklearn.model_selection import train_test_split\n",
        "xtrain,xtest,ytrain,ytest=train_test_split(X,Y,train_size=0.5)"
      ],
      "metadata": {
        "id": "LsPV7fRwaxMB"
      },
      "execution_count": 2,
      "outputs": []
    },
    {
      "cell_type": "code",
      "source": [
        "from sklearn.svm import SVC\n",
        "svm=SVC(C=1.0,kernel=\"rbf\")\n",
        "svm=svm.fit(xtrain,ytrain)\n",
        "res=svm.predict(xtest)\n",
        "print(res)"
      ],
      "metadata": {
        "colab": {
          "base_uri": "https://localhost:8080/"
        },
        "id": "7fwvfocHa3lM",
        "outputId": "dd4d0292-fbe1-4e7b-ac63-99a6ae291779"
      },
      "execution_count": 3,
      "outputs": [
        {
          "output_type": "stream",
          "name": "stdout",
          "text": [
            "[2 0 2 0 1 2 0 0 0 2 2 2 1 2 0 1 0 1 2 0 1 0 1 1 1 0 2 1 1 2 0 0 1 2 2 0 2\n",
            " 1 2 2 2 1 1 1 2 0 2 1 0 1 0 1 0 2 2 2 1 2 0 1 0 1 0 1 0 0 0 1 0 1 0 2 2 1\n",
            " 2]\n"
          ]
        }
      ]
    },
    {
      "cell_type": "code",
      "source": [
        "from sklearn.metrics import accuracy_score\n",
        "score=accuracy_score(ytest,res)\n",
        "print(score*100)"
      ],
      "metadata": {
        "colab": {
          "base_uri": "https://localhost:8080/"
        },
        "id": "Itq-1F6cbSiQ",
        "outputId": "82e322aa-e294-4e2e-992b-072d87d1578e"
      },
      "execution_count": 4,
      "outputs": [
        {
          "output_type": "stream",
          "name": "stdout",
          "text": [
            "94.66666666666667\n"
          ]
        }
      ]
    }
  ]
}