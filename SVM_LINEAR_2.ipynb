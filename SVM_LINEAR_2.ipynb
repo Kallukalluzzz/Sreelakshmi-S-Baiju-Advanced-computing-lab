{
  "nbformat": 4,
  "nbformat_minor": 0,
  "metadata": {
    "colab": {
      "name": "SVM.LINEAR 2",
      "provenance": [],
      "authorship_tag": "ABX9TyMaUE20VPPB3+Qvq8i26RU2",
      "include_colab_link": true
    },
    "kernelspec": {
      "name": "python3",
      "display_name": "Python 3"
    },
    "language_info": {
      "name": "python"
    }
  },
  "cells": [
    {
      "cell_type": "markdown",
      "metadata": {
        "id": "view-in-github",
        "colab_type": "text"
      },
      "source": [
        "<a href=\"https://colab.research.google.com/github/Kallukalluzzz/gitproject/blob/master/SVM_LINEAR_2.ipynb\" target=\"_parent\"><img src=\"https://colab.research.google.com/assets/colab-badge.svg\" alt=\"Open In Colab\"/></a>"
      ]
    },
    {
      "cell_type": "code",
      "execution_count": null,
      "metadata": {
        "id": "ClYv7uECUdP4"
      },
      "outputs": [],
      "source": [
        "from sklearn.datasets import load_iris\n",
        "file=load_iris()\n",
        "X=file.data\n",
        "Y=file.target"
      ]
    },
    {
      "cell_type": "code",
      "source": [
        "from sklearn.model_selection import train_test_split\n",
        "xtrain,xtest,ytrain,ytest=train_test_split(X,Y,train_size=0.5)"
      ],
      "metadata": {
        "id": "GSs7LeKYXImJ"
      },
      "execution_count": null,
      "outputs": []
    },
    {
      "cell_type": "code",
      "source": [
        "from sklearn.svm import SVC\n",
        "svm=SVC(kernel='linear',C=9)\n",
        "svm=svm.fit(xtrain,ytrain)\n",
        "res=svm.predict(xtest)\n",
        "print(res)"
      ],
      "metadata": {
        "colab": {
          "base_uri": "https://localhost:8080/"
        },
        "id": "zy6kPCKOXkjb",
        "outputId": "0914bb30-8b56-4110-ab69-f0e103f06821"
      },
      "execution_count": null,
      "outputs": [
        {
          "output_type": "stream",
          "name": "stdout",
          "text": [
            "[1 2 1 1 1 2 2 1 2 1 0 2 2 1 1 2 2 0 2 2 1 0 2 0 2 0 0 2 0 2 0 1 2 2 2 1 2\n",
            " 1 0 0 0 0 1 2 0 1 2 0 2 0 2 1 1 1 1 1 0 1 0 0 2 2 2 2 0 1 0 2 2 0 0 1 2 2\n",
            " 0]\n"
          ]
        }
      ]
    },
    {
      "cell_type": "code",
      "source": [
        "from sklearn.metrics import accuracy_score\n",
        "score=accuracy_score(ytest,res)\n",
        "print(score*100)"
      ],
      "metadata": {
        "colab": {
          "base_uri": "https://localhost:8080/"
        },
        "id": "HNikb6wzX4lt",
        "outputId": "4c8508d4-7adb-413e-cc7e-e7e9eddf9510"
      },
      "execution_count": null,
      "outputs": [
        {
          "output_type": "stream",
          "name": "stdout",
          "text": [
            "96.0\n"
          ]
        }
      ]
    }
  ]
}